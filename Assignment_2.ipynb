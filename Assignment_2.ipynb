{
  "nbformat": 4,
  "nbformat_minor": 0,
  "metadata": {
    "colab": {
<<<<<<< HEAD
      "provenance": []
=======
      "provenance": [],
      "authorship_tag": "ABX9TyNfTOJIa10Rz/xm/hDzhJF0",
      "include_colab_link": true
>>>>>>> 9432bd7de8e564d4ed6f72d4c687b36815bb858f
    },
    "kernelspec": {
      "name": "python3",
      "display_name": "Python 3"
    },
    "language_info": {
      "name": "python"
    }
  },
  "cells": [
    {
<<<<<<< HEAD
=======
      "cell_type": "markdown",
      "metadata": {
        "id": "view-in-github",
        "colab_type": "text"
      },
      "source": [
        "<a href=\"https://colab.research.google.com/github/NithinGudimetla/PDS/blob/main/Assignment_2.ipynb\" target=\"_parent\"><img src=\"https://colab.research.google.com/assets/colab-badge.svg\" alt=\"Open In Colab\"/></a>"
      ]
    },
    {
>>>>>>> 9432bd7de8e564d4ed6f72d4c687b36815bb858f
      "cell_type": "code",
      "execution_count": null,
      "metadata": {
        "colab": {
          "base_uri": "https://localhost:8080/"
        },
        "id": "IUtZV5mU2gSU",
        "outputId": "f5116747-6814-4310-a299-c0bb06f2b372"
      },
      "outputs": [
        {
          "output_type": "stream",
          "name": "stderr",
          "text": [
            "<ipython-input-11-3266e093ea77>:6: FutureWarning: A value is trying to be set on a copy of a DataFrame or Series through chained assignment using an inplace method.\n",
            "The behavior will change in pandas 3.0. This inplace method will never work because the intermediate object on which we are setting values always behaves as a copy.\n",
            "\n",
            "For example, when doing 'df[col].method(value, inplace=True)', try using 'df.method({col: value}, inplace=True)' or df[col] = df[col].method(value) instead, to perform the operation inplace on the original object.\n",
            "\n",
            "\n",
            "  df[\"Mileage\"].fillna(df[\"Mileage\"].mode()[0], inplace=True)\n",
            "<ipython-input-11-3266e093ea77>:7: FutureWarning: A value is trying to be set on a copy of a DataFrame or Series through chained assignment using an inplace method.\n",
            "The behavior will change in pandas 3.0. This inplace method will never work because the intermediate object on which we are setting values always behaves as a copy.\n",
            "\n",
            "For example, when doing 'df[col].method(value, inplace=True)', try using 'df.method({col: value}, inplace=True)' or df[col] = df[col].method(value) instead, to perform the operation inplace on the original object.\n",
            "\n",
            "\n",
            "  df[\"Engine\"].fillna(df[\"Engine\"].mode()[0], inplace=True)\n",
            "<ipython-input-11-3266e093ea77>:8: FutureWarning: A value is trying to be set on a copy of a DataFrame or Series through chained assignment using an inplace method.\n",
            "The behavior will change in pandas 3.0. This inplace method will never work because the intermediate object on which we are setting values always behaves as a copy.\n",
            "\n",
            "For example, when doing 'df[col].method(value, inplace=True)', try using 'df.method({col: value}, inplace=True)' or df[col] = df[col].method(value) instead, to perform the operation inplace on the original object.\n",
            "\n",
            "\n",
            "  df[\"Power\"].fillna(df[\"Power\"].mode()[0], inplace=True)\n",
            "<ipython-input-11-3266e093ea77>:9: FutureWarning: A value is trying to be set on a copy of a DataFrame or Series through chained assignment using an inplace method.\n",
            "The behavior will change in pandas 3.0. This inplace method will never work because the intermediate object on which we are setting values always behaves as a copy.\n",
            "\n",
            "For example, when doing 'df[col].method(value, inplace=True)', try using 'df.method({col: value}, inplace=True)' or df[col] = df[col].method(value) instead, to perform the operation inplace on the original object.\n",
            "\n",
            "\n",
            "  df[\"Seats\"].fillna(df[\"Seats\"].mode()[0], inplace=True)\n"
          ]
        }
      ],
      "source": [
        "import pandas as pd\n",
        "\n",
        "df = pd.read_csv(\"train.csv\")\n",
        "\n",
        "# Impute missing values\n",
        "df[\"Mileage\"].fillna(df[\"Mileage\"].mode()[0], inplace=True)\n",
        "df[\"Engine\"].fillna(df[\"Engine\"].mode()[0], inplace=True)\n",
        "df[\"Power\"].fillna(df[\"Power\"].mode()[0], inplace=True)\n",
        "df[\"Seats\"].fillna(df[\"Seats\"].mode()[0], inplace=True)\n",
        "\n",
        "# Drop column with too many missing values\n",
        "df.drop(columns=[\"New_Price\"], inplace=True)\n",
        "\n",
        "df.to_csv(\"cleaned.csv\", index=False)\n"
      ]
    },
    {
      "cell_type": "code",
      "source": [
        "import re\n",
        "\n",
        "def extract_numeric(val):\n",
        "    if pd.isnull(val):\n",
        "        return None\n",
        "    return float(re.findall(r\"[\\d.]+\", str(val))[0])\n",
        "\n",
        "df[\"Mileage\"] = df[\"Mileage\"].apply(extract_numeric)\n",
        "df[\"Engine\"] = df[\"Engine\"].apply(extract_numeric)\n",
        "df[\"Power\"] = df[\"Power\"].apply(extract_numeric)\n",
        "\n",
        "df.to_csv(\"unit_removed.csv\", index=False)\n"
      ],
      "metadata": {
        "id": "AhC8C_kG4AZu"
      },
      "execution_count": null,
      "outputs": []
    },
    {
      "cell_type": "code",
      "source": [
        "df_encoded = pd.get_dummies(df, columns=['Fuel_Type', 'Transmission'], drop_first=True)\n",
        "df_encoded.to_csv(\"encoded.csv\", index=False)\n"
      ],
      "metadata": {
        "id": "fpXU6Mzw5Boq"
      },
      "execution_count": null,
      "outputs": []
    },
    {
      "cell_type": "code",
      "source": [
        "from datetime import datetime\n",
        "current_year = datetime.now().year\n",
        "\n",
        "df_encoded[\"Car_Age\"] = current_year - df_encoded[\"Year\"]\n",
        "df_encoded.to_csv(\"car_age_added.csv\", index=False)\n"
      ],
      "metadata": {
        "id": "AGODlAP05HN8"
      },
      "execution_count": null,
      "outputs": []
    },
    {
      "cell_type": "code",
      "source": [
        "# SELECT\n",
        "df_select = df_encoded[[\"Name\", \"Location\", \"Year\", \"Kilometers_Driven\", \"Price\", \"Car_Age\"]]\n",
        "\n",
        "# FILTER\n",
        "df_filter = df_select[df_select[\"Car_Age\"] > 10]\n",
        "\n",
        "# RENAME\n",
        "df_rename = df_filter.rename(columns={\"Kilometers_Driven\": \"Kms_Driven\"})\n",
        "\n",
        "# MUTATE\n",
        "df_rename[\"Price_per_KM\"] = df_rename[\"Price\"] * 100000 / df_rename[\"Kms_Driven\"]\n",
        "\n",
        "# ARRANGE\n",
        "df_arranged = df_rename.sort_values(by=\"Price_per_KM\", ascending=False)\n",
        "\n",
        "# GROUP BY + SUMMARIZE\n",
        "df_grouped = df_encoded.groupby(\"Location\")[\"Price\"].agg([\"mean\", \"count\"]).reset_index()\n",
        "\n",
        "# Save all\n",
        "df_select.to_csv(\"select.csv\", index=False)\n",
        "df_filter.to_csv(\"filter.csv\", index=False)\n",
        "df_rename.to_csv(\"rename_mutate.csv\", index=False)\n",
        "df_arranged.to_csv(\"arranged.csv\", index=False)\n",
        "df_grouped.to_csv(\"groupby_summary.csv\", index=False)\n"
      ],
      "metadata": {
        "id": "sk4fJEpn5J0-"
      },
      "execution_count": null,
      "outputs": []
    },
    {
      "cell_type": "code",
      "source": [],
      "metadata": {
        "id": "vMNp1SwE5N9r"
      },
      "execution_count": null,
      "outputs": []
    }
  ]
}